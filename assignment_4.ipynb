{
  "nbformat": 4,
  "nbformat_minor": 0,
  "metadata": {
    "colab": {
      "provenance": []
    },
    "kernelspec": {
      "name": "python3",
      "display_name": "Python 3"
    },
    "language_info": {
      "name": "python"
    }
  },
  "cells": [
    {
      "cell_type": "code",
      "execution_count": 5,
      "metadata": {
        "id": "Yj7ER5jGYOhB"
      },
      "outputs": [],
      "source": [
        "def bisection(f, a, b, tol):\n",
        "    if f(a) * f(b) >= 0:\n",
        "        print(\"Metode Bisection gagal: f(a) dan f(b) harus berbeda tanda.\")\n",
        "        return None\n",
        "\n",
        "    while (b - a) / 2 > tol:\n",
        "        c = (a + b) / 2\n",
        "        if f(c) == 0:\n",
        "            return c\n",
        "        elif f(a) * f(c) < 0:\n",
        "            b = c\n",
        "        else:\n",
        "            a = c\n",
        "    return (a + b) / 2"
      ]
    },
    {
      "cell_type": "code",
      "source": [
        "#soal 1\n",
        "f1 = lambda x: x**3 - 3*x**2 + 2*x\n",
        "root1 = bisection(f1, 1.1, 2, 0.01)\n",
        "print(\"Bisection - Soal 1: Akar =\", root1)"
      ],
      "metadata": {
        "colab": {
          "base_uri": "https://localhost:8080/"
        },
        "id": "IBEdq324YlYr",
        "outputId": "06d4ba70-a4a8-4642-b922-7b962f565985"
      },
      "execution_count": 6,
      "outputs": [
        {
          "output_type": "stream",
          "name": "stdout",
          "text": [
            "Metode Bisection gagal: f(a) dan f(b) harus berbeda tanda.\n",
            "Bisection - Soal 1: Akar = None\n"
          ]
        }
      ]
    },
    {
      "cell_type": "code",
      "source": [
        "#soal 2\n",
        "import math\n",
        "f2 = lambda x: math.sin(x) - x\n",
        "root2 = bisection(f2, 0, 1, 0.001)\n",
        "print(\"Bisection - Soal 2: Akar =\", root2)\n"
      ],
      "metadata": {
        "colab": {
          "base_uri": "https://localhost:8080/"
        },
        "id": "H0_prX-HYrC3",
        "outputId": "67a4b35e-19b9-4615-ca43-122f834e3f32"
      },
      "execution_count": 7,
      "outputs": [
        {
          "output_type": "stream",
          "name": "stdout",
          "text": [
            "Metode Bisection gagal: f(a) dan f(b) harus berbeda tanda.\n",
            "Bisection - Soal 2: Akar = None\n"
          ]
        }
      ]
    },
    {
      "cell_type": "code",
      "source": [
        "def newton_raphson(f, df, x0, tol, max_iter=100):\n",
        "    x = x0\n",
        "    for i in range(max_iter):\n",
        "        fx = f(x)\n",
        "        dfx = df(x)\n",
        "        if dfx == 0:\n",
        "            print(\"Turunan nol. Metode gagal.\")\n",
        "            return None\n",
        "        x_new = x - fx / dfx\n",
        "        if abs(x_new - x) < tol:\n",
        "            return x_new\n",
        "        x = x_new\n",
        "    print(\"Maksimal iterasi tercapai.\")\n",
        "    return x"
      ],
      "metadata": {
        "id": "ehu7tZMRZwyl"
      },
      "execution_count": 8,
      "outputs": []
    },
    {
      "cell_type": "code",
      "source": [
        "#soal 1\n",
        "f1 = lambda x: x**3 - 3*x**2 + 2*x\n",
        "df1 = lambda x: 3*x**2 - 6*x + 2\n",
        "root1 = newton_raphson(f1, df1, 1.5, 0.01)\n",
        "print(\"Newton-Raphson - Soal 1: Akar =\", root1)"
      ],
      "metadata": {
        "colab": {
          "base_uri": "https://localhost:8080/"
        },
        "id": "MA7Nc12XZ2Bd",
        "outputId": "ea6b8b7d-61fa-4a10-9897-91d5480cada9"
      },
      "execution_count": 11,
      "outputs": [
        {
          "output_type": "stream",
          "name": "stdout",
          "text": [
            "Newton-Raphson - Soal 1: Akar = 0.0\n"
          ]
        }
      ]
    },
    {
      "cell_type": "code",
      "source": [
        "#soal 2\n",
        "import numpy as np\n",
        "f2 = lambda x: np.exp(x) - 2*x\n",
        "df2 = lambda x: np.exp(x) - 2\n",
        "root2 = newton_raphson(f2, df2, 1, 0.001)\n",
        "print(\"Newton-Raphson - Soal 2: Akar =\", root2)\n"
      ],
      "metadata": {
        "colab": {
          "base_uri": "https://localhost:8080/"
        },
        "id": "hc_ygwFJZ5Ls",
        "outputId": "36777ee5-f391-4cd3-acd2-185dae67e7a0"
      },
      "execution_count": 10,
      "outputs": [
        {
          "output_type": "stream",
          "name": "stdout",
          "text": [
            "Maksimal iterasi tercapai.\n",
            "Newton-Raphson - Soal 2: Akar = 1.0\n"
          ]
        }
      ]
    }
  ]
}