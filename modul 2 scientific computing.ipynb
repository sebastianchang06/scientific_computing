{
  "nbformat": 4,
  "nbformat_minor": 0,
  "metadata": {
    "colab": {
      "provenance": []
    },
    "kernelspec": {
      "name": "python3",
      "display_name": "Python 3"
    },
    "language_info": {
      "name": "python"
    }
  },
  "cells": [
    {
      "cell_type": "markdown",
      "source": [
        "\n",
        "\n",
        "Sesi 1\n"
      ],
      "metadata": {
        "id": "pS3gozOs2eX9"
      }
    },
    {
      "cell_type": "code",
      "execution_count": null,
      "metadata": {
        "colab": {
          "base_uri": "https://localhost:8080/"
        },
        "id": "uVs1aif81pOM",
        "outputId": "73bcf8d5-ee54-4730-8806-41582a470451"
      },
      "outputs": [
        {
          "output_type": "stream",
          "name": "stdout",
          "text": [
            "Thu Feb  6 10:40:34 2025\n"
          ]
        }
      ],
      "source": [
        "import time\n",
        "print(time.ctime())"
      ]
    },
    {
      "cell_type": "code",
      "source": [
        "x = 1\n",
        "print(x)"
      ],
      "metadata": {
        "colab": {
          "base_uri": "https://localhost:8080/"
        },
        "id": "MUvL3O0_27c2",
        "outputId": "7239574e-4300-40c2-8492-7f45901c52e2"
      },
      "execution_count": null,
      "outputs": [
        {
          "output_type": "stream",
          "name": "stdout",
          "text": [
            "1\n"
          ]
        }
      ]
    },
    {
      "cell_type": "code",
      "source": [
        "x = x + 2\n",
        "x"
      ],
      "metadata": {
        "colab": {
          "base_uri": "https://localhost:8080/"
        },
        "id": "c_764lY53EPE",
        "outputId": "62df27fe-a389-471c-895a-c70575429e3f"
      },
      "execution_count": null,
      "outputs": [
        {
          "output_type": "execute_result",
          "data": {
            "text/plain": [
              "3"
            ]
          },
          "metadata": {},
          "execution_count": 6
        }
      ]
    },
    {
      "cell_type": "code",
      "source": [
        "x = 1\n",
        "y = x -2\n",
        "x = 5\n",
        "y"
      ],
      "metadata": {
        "colab": {
          "base_uri": "https://localhost:8080/"
        },
        "id": "Fc3tNaJo3Tct",
        "outputId": "20cfe73a-42f3-44d6-fbf8-c64bfd41d0c9"
      },
      "execution_count": null,
      "outputs": [
        {
          "output_type": "execute_result",
          "data": {
            "text/plain": [
              "-1"
            ]
          },
          "metadata": {},
          "execution_count": 8
        }
      ]
    },
    {
      "cell_type": "code",
      "source": [
        "import numpy as np"
      ],
      "metadata": {
        "id": "ZpZc6WMJ4ISE"
      },
      "execution_count": null,
      "outputs": []
    },
    {
      "cell_type": "code",
      "source": [
        "x = np.array([1,4,3])\n",
        "x"
      ],
      "metadata": {
        "colab": {
          "base_uri": "https://localhost:8080/"
        },
        "id": "VwMlbc244obK",
        "outputId": "5f6e4758-98c3-4e27-dc7e-a663929c7672"
      },
      "execution_count": null,
      "outputs": [
        {
          "output_type": "execute_result",
          "data": {
            "text/plain": [
              "array([1, 4, 3])"
            ]
          },
          "metadata": {},
          "execution_count": 10
        }
      ]
    },
    {
      "cell_type": "code",
      "source": [
        "x = np.array([[1,4,3], [9,2,7]])\n",
        "x"
      ],
      "metadata": {
        "colab": {
          "base_uri": "https://localhost:8080/"
        },
        "id": "yvn0qzRH43jL",
        "outputId": "c56e86db-785d-41df-b991-ad8cf9facb19"
      },
      "execution_count": null,
      "outputs": [
        {
          "output_type": "execute_result",
          "data": {
            "text/plain": [
              "array([[1, 4, 3],\n",
              "       [9, 2, 7]])"
            ]
          },
          "metadata": {},
          "execution_count": 11
        }
      ]
    },
    {
      "cell_type": "code",
      "source": [
        "def my_adder(a,b,c):\n",
        "  \"\"\"\n",
        "  function to sum the 3 numbers\n",
        "  Input: 3 numbers a,b,c\n",
        "  Output: the sum of a,b,c\n",
        "  author:\n",
        "  date:\n",
        "  \"\"\"\n",
        "\n",
        "\n",
        "  # this is the summation\n",
        "  out = a+b+c\n",
        "\n",
        "  return out"
      ],
      "metadata": {
        "id": "USs6zmQ16UKx"
      },
      "execution_count": null,
      "outputs": []
    },
    {
      "cell_type": "code",
      "source": [
        "my_adder(2,4,6)"
      ],
      "metadata": {
        "colab": {
          "base_uri": "https://localhost:8080/"
        },
        "id": "0OI45TIF7Cdx",
        "outputId": "78f56801-afdb-4b53-d202-43741f1d08a7"
      },
      "execution_count": null,
      "outputs": [
        {
          "output_type": "execute_result",
          "data": {
            "text/plain": [
              "12"
            ]
          },
          "metadata": {},
          "execution_count": 13
        }
      ]
    },
    {
      "cell_type": "code",
      "source": [
        "help(my_adder)"
      ],
      "metadata": {
        "colab": {
          "base_uri": "https://localhost:8080/"
        },
        "id": "GBF41xvT7v1x",
        "outputId": "621fd100-408c-433b-c452-842a7f2505ad"
      },
      "execution_count": null,
      "outputs": [
        {
          "output_type": "stream",
          "name": "stdout",
          "text": [
            "Help on function my_adder in module __main__:\n",
            "\n",
            "my_adder(a, b, c)\n",
            "    function to sum the 3 numbers\n",
            "    Input: 3 numbers a,b,c\n",
            "    Output: the sum of a,b,c\n",
            "    author:\n",
            "    date:\n",
            "\n"
          ]
        }
      ]
    },
    {
      "cell_type": "code",
      "source": [
        "def my_thermo_stat(temparature,desired_temp):\n",
        "  if temparature < desired_temp - 5:\n",
        "    status = \"heat\"\n",
        "  elif temparature > desired_temp + 5:\n",
        "      status = \"AC\"\n",
        "  else:\n",
        "        status = \"off\"\n",
        "\n",
        "        return status"
      ],
      "metadata": {
        "id": "9HOff_Q68U3m"
      },
      "execution_count": null,
      "outputs": []
    },
    {
      "cell_type": "code",
      "source": [
        "status =  my_thermo_stat(65,63)\n",
        "print(status)"
      ],
      "metadata": {
        "colab": {
          "base_uri": "https://localhost:8080/"
        },
        "id": "yeHSPayW9t4N",
        "outputId": "9a34d865-6887-4aeb-fe1b-04b08d6f1c57"
      },
      "execution_count": null,
      "outputs": [
        {
          "output_type": "stream",
          "name": "stdout",
          "text": [
            "off\n"
          ]
        }
      ]
    },
    {
      "cell_type": "code",
      "source": [
        "status = my_thermo_stat(75,65)\n",
        "print(status)"
      ],
      "metadata": {
        "colab": {
          "base_uri": "https://localhost:8080/"
        },
        "id": "hZwJ4loO_fZB",
        "outputId": "45fa4af1-aaaa-4bd4-cafb-6529657784b6"
      },
      "execution_count": null,
      "outputs": [
        {
          "output_type": "stream",
          "name": "stdout",
          "text": [
            "None\n"
          ]
        }
      ]
    },
    {
      "cell_type": "code",
      "source": [
        "status = my_thermo_stat(65,75)\n",
        "print(status)"
      ],
      "metadata": {
        "colab": {
          "base_uri": "https://localhost:8080/"
        },
        "id": "m46LQl4d_qM9",
        "outputId": "8e56228e-23f5-4510-a364-35567c3d30e4"
      },
      "execution_count": null,
      "outputs": [
        {
          "output_type": "stream",
          "name": "stdout",
          "text": [
            "None\n"
          ]
        }
      ]
    },
    {
      "cell_type": "code",
      "source": [
        "x = 3\n",
        "if x > 10 and x < 15:\n",
        "  y = 20\n",
        "elif x > 2 and x < 4:\n",
        "  y = 10\n",
        "else:\n",
        "  y = -8\n",
        "print(y)"
      ],
      "metadata": {
        "colab": {
          "base_uri": "https://localhost:8080/"
        },
        "id": "Ol-tGnUq-G8u",
        "outputId": "811b8889-d4e4-444d-bb45-ee33f827a189"
      },
      "execution_count": null,
      "outputs": [
        {
          "output_type": "stream",
          "name": "stdout",
          "text": [
            "10\n"
          ]
        }
      ]
    },
    {
      "cell_type": "code",
      "source": [
        "x = 3\n",
        "if 10 < x < 15:\n",
        "  y = 20\n",
        "elif 3 < x < 5:\n",
        "  y = 12\n",
        "else:\n",
        "  y = 0\n",
        "print(y)"
      ],
      "metadata": {
        "colab": {
          "base_uri": "https://localhost:8080/"
        },
        "id": "vuYZ0koJ-gTF",
        "outputId": "ff99e12c-b642-4796-d992-083e025e19dc"
      },
      "execution_count": null,
      "outputs": [
        {
          "output_type": "stream",
          "name": "stdout",
          "text": [
            "0\n"
          ]
        }
      ]
    },
    {
      "cell_type": "code",
      "source": [
        "def angka"
      ],
      "metadata": {
        "id": "Nijvw1kQ_6iW"
      },
      "execution_count": null,
      "outputs": []
    },
    {
      "cell_type": "code",
      "source": [
        "def my_thermo_stat(temparature,desired_temp):\n",
        "  if temparature < desired_temp - 5:\n",
        "    status = \"heat\"\n",
        "  elif temparature > desired_temp + 5:\n",
        "      status = \"AC\"\n",
        "  else:\n",
        "        status = \"off\"\n",
        "\n",
        "        return status"
      ],
      "metadata": {
        "id": "Urx1yP9KAPIC"
      },
      "execution_count": null,
      "outputs": []
    },
    {
      "cell_type": "code",
      "source": [
        "def ganjil_genap(angka):\n",
        "  if angka % 2 == 0:\n",
        "    print(\"genap\")\n",
        "  else:\n",
        "    print(\"ganjil\")"
      ],
      "metadata": {
        "id": "TDFUcRIgAWQl"
      },
      "execution_count": null,
      "outputs": []
    },
    {
      "cell_type": "code",
      "source": [
        "x = 10\n",
        "ganjil_genap(x)"
      ],
      "metadata": {
        "colab": {
          "base_uri": "https://localhost:8080/"
        },
        "id": "0GgQ638kAu30",
        "outputId": "d81f8dfc-b8af-4083-ea21-c3f60cc38c72"
      },
      "execution_count": null,
      "outputs": [
        {
          "output_type": "stream",
          "name": "stdout",
          "text": [
            "genap\n"
          ]
        }
      ]
    },
    {
      "cell_type": "code",
      "source": [
        "x = 11\n",
        "ganjil_genap(x)"
      ],
      "metadata": {
        "colab": {
          "base_uri": "https://localhost:8080/"
        },
        "id": "-3bT_obXA_Kx",
        "outputId": "fa892b80-579f-46be-c858-7a1886f7d09a"
      },
      "execution_count": null,
      "outputs": [
        {
          "output_type": "stream",
          "name": "stdout",
          "text": [
            "ganjil\n"
          ]
        }
      ]
    },
    {
      "cell_type": "code",
      "source": [
        "def positif_negatif(angka):\n",
        "  if angka > 0:\n",
        "    print(\"positif\")\n",
        "  else:\n",
        "    print(\"negatif\")"
      ],
      "metadata": {
        "id": "HCkFhIHiFCGZ"
      },
      "execution_count": null,
      "outputs": []
    },
    {
      "cell_type": "code",
      "source": [
        "angka = 2\n",
        "positif_negatif(angka)"
      ],
      "metadata": {
        "colab": {
          "base_uri": "https://localhost:8080/"
        },
        "id": "UlZcJh0PFftY",
        "outputId": "2961fc0f-6974-4108-fb20-e64c22629a4a"
      },
      "execution_count": null,
      "outputs": [
        {
          "output_type": "stream",
          "name": "stdout",
          "text": [
            "positif\n"
          ]
        }
      ]
    },
    {
      "cell_type": "code",
      "source": [
        "angka = -1\n",
        "positif_negatif(angka)"
      ],
      "metadata": {
        "id": "B_H9VZN9FvuV",
        "outputId": "07c15a2c-cfb1-47e1-81c5-482f17c1c258",
        "colab": {
          "base_uri": "https://localhost:8080/"
        }
      },
      "execution_count": null,
      "outputs": [
        {
          "output_type": "stream",
          "name": "stdout",
          "text": [
            "negatif\n"
          ]
        }
      ]
    },
    {
      "cell_type": "markdown",
      "source": [
        "Sesi 2"
      ],
      "metadata": {
        "id": "JR85Zixh_4_M"
      }
    },
    {
      "cell_type": "code",
      "source": [
        "import numpy as np\n",
        "a = [\n",
        "    [8, 3, -3],\n",
        "    [-2, -8, 5],\n",
        "    [3, 5, 10]\n",
        "]\n",
        "\n",
        "# Find diagonal coefficients\n",
        "diag = np.diag(np.abs(a))\n",
        "\n",
        "# Find row sum without diagonal\n",
        "off_diag = np.sum(np.abs(a), axis=1) - diag\n",
        "\n",
        "if np.all(diag > off_diag):\n",
        "  print('matrix is diagonally dominant')\n",
        "else:\n",
        "  print('NOT diagonally dominant')"
      ],
      "metadata": {
        "colab": {
          "base_uri": "https://localhost:8080/"
        },
        "id": "zKM1u0LW_9OL",
        "outputId": "00dc790b-2941-48a5-cd02-e903d737e9be"
      },
      "execution_count": null,
      "outputs": [
        {
          "output_type": "stream",
          "name": "stdout",
          "text": [
            "matrix is diagonally dominant\n"
          ]
        }
      ]
    },
    {
      "cell_type": "code",
      "source": [
        "x1 = 0\n",
        "x2 = 0\n",
        "x3 = 0\n",
        "epsilon = 0.01\n",
        "converged = False\n",
        "\n",
        "x_old = np.array([x1, x2, x3])"
      ],
      "metadata": {
        "id": "I5Eua5YYEqmx"
      },
      "execution_count": null,
      "outputs": []
    },
    {
      "cell_type": "code",
      "source": [
        "print('iteration results')\n",
        "print(' k, x1, x2, x3')\n",
        "for k in range(1, 50):\n",
        "  x1 = (14-3*x2+3)*x3/8\n",
        "  x2 = (5+2*x1-5*x3)/(-8)\n",
        "  x3 = (-8-3*x1-5*x2)/(10)\n",
        "  x = np.array([x1, x2, x3])\n",
        "  # check if it is smaller than threshold\n",
        "  dx = np.sqrt(np.dot(x-x_old, x-x_old))\n",
        "\n",
        "  print(\"%d, %.4f, %.4f, %.4f\"%(k, x1, x2, x3))\n",
        "  if dx < epsilon:\n",
        "    converged = True\n",
        "    print('Convergerd')\n",
        "    break\n",
        "\n",
        "    # assign the latest x value to the old value\n",
        "    x_old = x\n",
        "\n",
        "  if not converged:\n",
        "    print('Not converge, increase the number of')"
      ],
      "metadata": {
        "colab": {
          "base_uri": "https://localhost:8080/"
        },
        "id": "78glr2G0BKMb",
        "outputId": "87230fd0-5cc7-405a-f7b7-0517ff8349b6"
      },
      "execution_count": null,
      "outputs": [
        {
          "output_type": "stream",
          "name": "stdout",
          "text": [
            "iteration results\n",
            " k, x1, x2, x3\n",
            "1, -0.6674, -0.6347, -0.2824\n",
            "Not converge, increase the number of\n",
            "2, -0.6674, -0.6347, -0.2824\n",
            "Not converge, increase the number of\n",
            "3, -0.6674, -0.6347, -0.2824\n",
            "Not converge, increase the number of\n",
            "4, -0.6674, -0.6347, -0.2824\n",
            "Not converge, increase the number of\n",
            "5, -0.6674, -0.6347, -0.2824\n",
            "Not converge, increase the number of\n",
            "6, -0.6674, -0.6347, -0.2824\n",
            "Not converge, increase the number of\n",
            "7, -0.6674, -0.6347, -0.2824\n",
            "Not converge, increase the number of\n",
            "8, -0.6674, -0.6347, -0.2824\n",
            "Not converge, increase the number of\n",
            "9, -0.6674, -0.6347, -0.2824\n",
            "Not converge, increase the number of\n",
            "10, -0.6674, -0.6347, -0.2824\n",
            "Not converge, increase the number of\n",
            "11, -0.6674, -0.6347, -0.2824\n",
            "Not converge, increase the number of\n",
            "12, -0.6674, -0.6347, -0.2824\n",
            "Not converge, increase the number of\n",
            "13, -0.6674, -0.6347, -0.2824\n",
            "Not converge, increase the number of\n",
            "14, -0.6674, -0.6347, -0.2824\n",
            "Not converge, increase the number of\n",
            "15, -0.6674, -0.6347, -0.2824\n",
            "Not converge, increase the number of\n",
            "16, -0.6674, -0.6347, -0.2824\n",
            "Not converge, increase the number of\n",
            "17, -0.6674, -0.6347, -0.2824\n",
            "Not converge, increase the number of\n",
            "18, -0.6674, -0.6347, -0.2824\n",
            "Not converge, increase the number of\n",
            "19, -0.6674, -0.6347, -0.2824\n",
            "Not converge, increase the number of\n",
            "20, -0.6674, -0.6347, -0.2824\n",
            "Not converge, increase the number of\n",
            "21, -0.6674, -0.6347, -0.2824\n",
            "Not converge, increase the number of\n",
            "22, -0.6674, -0.6347, -0.2824\n",
            "Not converge, increase the number of\n",
            "23, -0.6674, -0.6347, -0.2824\n",
            "Not converge, increase the number of\n",
            "24, -0.6674, -0.6347, -0.2824\n",
            "Not converge, increase the number of\n",
            "25, -0.6674, -0.6347, -0.2824\n",
            "Not converge, increase the number of\n",
            "26, -0.6674, -0.6347, -0.2824\n",
            "Not converge, increase the number of\n",
            "27, -0.6674, -0.6347, -0.2824\n",
            "Not converge, increase the number of\n",
            "28, -0.6674, -0.6347, -0.2824\n",
            "Not converge, increase the number of\n",
            "29, -0.6674, -0.6347, -0.2824\n",
            "Not converge, increase the number of\n",
            "30, -0.6674, -0.6347, -0.2824\n",
            "Not converge, increase the number of\n",
            "31, -0.6674, -0.6347, -0.2824\n",
            "Not converge, increase the number of\n",
            "32, -0.6674, -0.6347, -0.2824\n",
            "Not converge, increase the number of\n",
            "33, -0.6674, -0.6347, -0.2824\n",
            "Not converge, increase the number of\n",
            "34, -0.6674, -0.6347, -0.2824\n",
            "Not converge, increase the number of\n",
            "35, -0.6674, -0.6347, -0.2824\n",
            "Not converge, increase the number of\n",
            "36, -0.6674, -0.6347, -0.2824\n",
            "Not converge, increase the number of\n",
            "37, -0.6674, -0.6347, -0.2824\n",
            "Not converge, increase the number of\n",
            "38, -0.6674, -0.6347, -0.2824\n",
            "Not converge, increase the number of\n",
            "39, -0.6674, -0.6347, -0.2824\n",
            "Not converge, increase the number of\n",
            "40, -0.6674, -0.6347, -0.2824\n",
            "Not converge, increase the number of\n",
            "41, -0.6674, -0.6347, -0.2824\n",
            "Not converge, increase the number of\n",
            "42, -0.6674, -0.6347, -0.2824\n",
            "Not converge, increase the number of\n",
            "43, -0.6674, -0.6347, -0.2824\n",
            "Not converge, increase the number of\n",
            "44, -0.6674, -0.6347, -0.2824\n",
            "Not converge, increase the number of\n",
            "45, -0.6674, -0.6347, -0.2824\n",
            "Not converge, increase the number of\n",
            "46, -0.6674, -0.6347, -0.2824\n",
            "Not converge, increase the number of\n",
            "47, -0.6674, -0.6347, -0.2824\n",
            "Not converge, increase the number of\n",
            "48, -0.6674, -0.6347, -0.2824\n",
            "Not converge, increase the number of\n",
            "49, -0.6674, -0.6347, -0.2824\n",
            "Not converge, increase the number of\n"
          ]
        }
      ]
    },
    {
      "cell_type": "code",
      "source": [
        "import numpy as np\n",
        "from scipy import optimize\n",
        "import matplotlib.pyplot as plt\n",
        "\n",
        "# generate x and y\n",
        "x = np.linspace(0,1,101)\n",
        "y = 1 + x + x * np.random.random(len(x))\n",
        "\n",
        "# assemble matrix A\n",
        "A = np.vstack([x, np.ones(len(x))]).T\n",
        "\n",
        "# turn y into a column vector\n",
        "y = y[:, np.newaxis]\n",
        "\n",
        "# direct least square regression\n",
        "alpha = np.dot((np.dot(np.linalg.inv(np.dot(A.T,A)),A.T)),y)\n",
        "print(alpha)"
      ],
      "metadata": {
        "colab": {
          "base_uri": "https://localhost:8080/"
        },
        "id": "hruYjwdkJ2og",
        "outputId": "85e85b33-e4f2-41d1-a75d-16f7bcb85478"
      },
      "execution_count": null,
      "outputs": [
        {
          "output_type": "stream",
          "name": "stdout",
          "text": [
            "[[1.4476016]\n",
            " [1.0400678]]\n"
          ]
        }
      ]
    },
    {
      "cell_type": "markdown",
      "source": [
        "MODUL 2\n"
      ],
      "metadata": {
        "id": "ywGWM01aqWgx"
      }
    },
    {
      "cell_type": "code",
      "source": [
        "import numpy as np\n",
        "import matplotlib.pyplot as plt\n",
        "\n",
        "def gauss_seidel(A, b, x_init, tol=0.001, max_iter=100):\n",
        "    x = np.array(x_init, dtype=float)\n",
        "    n = len(b)\n",
        "    for _ in range(max_iter):\n",
        "        x_new = np.copy(x)\n",
        "        for i in range(n):\n",
        "            sum1 = sum(A[i][j] * x_new[j] for j in range(n) if j != i)\n",
        "            x_new[i] = (b[i] - sum1) / A[i][i]\n",
        "        if np.linalg.norm(x_new - x, ord=np.inf) < tol:\n",
        "            return x_new\n",
        "        x = x_new\n",
        "    return x"
      ],
      "metadata": {
        "id": "ETU56RnxqYv8"
      },
      "execution_count": 2,
      "outputs": []
    },
    {
      "cell_type": "code",
      "source": [
        "# Sistem Persamaan 1\n",
        "A1 = np.array([[2, 3, -1], [1, -1, 2], [3, 2, 1]])\n",
        "b1 = np.array([10, 4, 14])\n",
        "x_init1 = [5, 5, 5]\n",
        "x_gs1 = gauss_seidel(A1, b1, x_init1)\n",
        "x_np1 = np.linalg.solve(A1, b1)"
      ],
      "metadata": {
        "id": "GP2-Q3_uqnYX"
      },
      "execution_count": 3,
      "outputs": []
    },
    {
      "cell_type": "code",
      "source": [
        "# Data untuk regresi linear\n",
        "X = np.array([5, 4, 6, 7, 5])\n",
        "Y = np.array([10, 8, 12, 14, 10])\n",
        "a, b = np.polyfit(X, Y, 1)"
      ],
      "metadata": {
        "id": "ZmNGidIIq_ov"
      },
      "execution_count": 4,
      "outputs": []
    },
    {
      "cell_type": "code",
      "source": [
        "# Plot hasil regresi\n",
        "plt.scatter(X, Y, color='red', label='Data Points')\n",
        "plt.plot(X, a * X + b, label=f'Regression Line: y={a:.2f}x+{b:.2f}', color='blue')\n",
        "plt.xlabel('X')\n",
        "plt.ylabel('Y')\n",
        "plt.legend()\n",
        "plt.title('Least Squares Regression')\n",
        "plt.show()"
      ],
      "metadata": {
        "colab": {
          "base_uri": "https://localhost:8080/",
          "height": 472
        },
        "id": "HDNhD2uYrCy6",
        "outputId": "03896c98-9a6a-491b-cbd2-45a0cacdf39d"
      },
      "execution_count": 5,
      "outputs": [
        {
          "output_type": "display_data",
          "data": {
            "text/plain": [
              "<Figure size 640x480 with 1 Axes>"
            ],
            "image/png": "[encoded data removed]"
          },
          "metadata": {}
        }
      ]
    }
  ]
}